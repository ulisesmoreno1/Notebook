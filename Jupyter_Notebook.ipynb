{
 "cells": [
  {
   "cell_type": "markdown",
   "metadata": {},
   "source": [
    "<center>\n",
    "    <img src=\"https://cf-courses-data.s3.us.cloud-object-storage.appdomain.cloud/IBMDeveloperSkillsNetwork-DS0105EN-SkillsNetwork/labs/Module2/images/SN_web_lightmode.png\" width=\"300\" alt=\"cognitiveclass.ai logo\">\n",
    "</center>\n"
   ]
  },
  {
   "cell_type": "markdown",
   "metadata": {},
   "source": [
    "#### Add your code below following the instructions given in the course\n"
   ]
  },
  {
   "cell_type": "markdown",
   "metadata": {},
   "source": [
    "# Create a program that adds loops\n"
   ]
  },
  {
   "cell_type": "code",
   "execution_count": 5,
   "metadata": {
    "tags": []
   },
   "outputs": [
    {
     "name": "stdout",
     "output_type": "stream",
     "text": [
      "Bucle anidado número:  1\n",
      "Bucle anidado número:  2\n",
      "Bucle anidado número:  3\n",
      "Bucle anidado número:  4\n",
      "Bucle principal número:  1\n",
      "Bucle anidado número:  1\n",
      "Bucle anidado número:  2\n",
      "Bucle anidado número:  3\n",
      "Bucle anidado número:  4\n",
      "Bucle principal número:  2\n",
      "Bucle anidado número:  1\n",
      "Bucle anidado número:  2\n",
      "Bucle anidado número:  3\n",
      "Bucle anidado número:  4\n",
      "Bucle principal número:  3\n",
      "Finito\n"
     ]
    }
   ],
   "source": [
    "for a in [1,2,3]:\n",
    "    for b in [1,2,3,4]:\n",
    "        print(\"Bucle anidado número: \",b)\n",
    "    print(\"Bucle principal número: \",a)\n",
    "print(\"Finito\")"
   ]
  },
  {
   "cell_type": "code",
   "execution_count": null,
   "metadata": {},
   "outputs": [],
   "source": []
  }
 ],
 "metadata": {
  "kernelspec": {
   "display_name": "Python",
   "language": "python",
   "name": "conda-env-python-py"
  },
  "language_info": {
   "codemirror_mode": {
    "name": "ipython",
    "version": 3
   },
   "file_extension": ".py",
   "mimetype": "text/x-python",
   "name": "python",
   "nbconvert_exporter": "python",
   "pygments_lexer": "ipython3",
   "version": "3.7.12"
  }
 },
 "nbformat": 4,
 "nbformat_minor": 4
}
